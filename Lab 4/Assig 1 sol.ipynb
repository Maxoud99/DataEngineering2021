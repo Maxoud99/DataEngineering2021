{
 "cells": [
  {
   "cell_type": "markdown",
   "metadata": {},
   "source": [
    "Lab 2 - Intro to pandas assignment - please if you wish to add more cells , you can do so from the menu tab 'Insert' or for a keyboard shortcut switch to command mode when you are on a cell by pressing Esc(The cell would then be labeled Blue on the side) and pressing b to insert a cell below."
   ]
  },
  {
   "cell_type": "markdown",
   "metadata": {},
   "source": [
    "Task 1 - Import pandas , and load the csv file and store as dataframe. - The dataset is IMDB's movie dataset.Link of the dataset - https://raw.githubusercontent.com/laxmimerit/All-CSV-ML-Data-Files-Download/master/IMDB-Movie-Data.csv\n"
   ]
  },
  {
   "cell_type": "code",
   "execution_count": 20,
   "metadata": {},
   "outputs": [],
   "source": [
    "import pandas as pd\n",
    "my_data = pd.read_csv('IMDB-Movie-Data.csv')\n",
    "df=pd.DataFrame(my_data)"
   ]
  },
  {
   "cell_type": "markdown",
   "metadata": {},
   "source": [
    "Task 2 - print out the first 7 rows and the last 3 rows"
   ]
  },
  {
   "cell_type": "code",
   "execution_count": 37,
   "metadata": {
    "scrolled": false
   },
   "outputs": [
    {
     "data": {
      "text/html": [
       "<div>\n",
       "<style scoped>\n",
       "    .dataframe tbody tr th:only-of-type {\n",
       "        vertical-align: middle;\n",
       "    }\n",
       "\n",
       "    .dataframe tbody tr th {\n",
       "        vertical-align: top;\n",
       "    }\n",
       "\n",
       "    .dataframe thead th {\n",
       "        text-align: right;\n",
       "    }\n",
       "</style>\n",
       "<table border=\"1\" class=\"dataframe\">\n",
       "  <thead>\n",
       "    <tr style=\"text-align: right;\">\n",
       "      <th></th>\n",
       "      <th>Rank</th>\n",
       "      <th>Title</th>\n",
       "      <th>Genre</th>\n",
       "      <th>Description</th>\n",
       "      <th>Director</th>\n",
       "      <th>Actors</th>\n",
       "      <th>Year</th>\n",
       "      <th>Runtime (Minutes)</th>\n",
       "      <th>Rating</th>\n",
       "      <th>Votes</th>\n",
       "      <th>Revenue (Millions)</th>\n",
       "      <th>Metascore</th>\n",
       "    </tr>\n",
       "  </thead>\n",
       "  <tbody>\n",
       "    <tr>\n",
       "      <th>0</th>\n",
       "      <td>1</td>\n",
       "      <td>Guardians of the Galaxy</td>\n",
       "      <td>Action,Adventure,Sci-Fi</td>\n",
       "      <td>A group of intergalactic criminals are forced ...</td>\n",
       "      <td>James Gunn</td>\n",
       "      <td>Chris Pratt, Vin Diesel, Bradley Cooper, Zoe S...</td>\n",
       "      <td>2014</td>\n",
       "      <td>121</td>\n",
       "      <td>8.1</td>\n",
       "      <td>757074</td>\n",
       "      <td>333.13</td>\n",
       "      <td>76.0</td>\n",
       "    </tr>\n",
       "  </tbody>\n",
       "</table>\n",
       "</div>"
      ],
      "text/plain": [
       "   Rank                    Title                    Genre  \\\n",
       "0     1  Guardians of the Galaxy  Action,Adventure,Sci-Fi   \n",
       "\n",
       "                                         Description    Director  \\\n",
       "0  A group of intergalactic criminals are forced ...  James Gunn   \n",
       "\n",
       "                                              Actors  Year  Runtime (Minutes)  \\\n",
       "0  Chris Pratt, Vin Diesel, Bradley Cooper, Zoe S...  2014                121   \n",
       "\n",
       "   Rating   Votes  Revenue (Millions)  Metascore  \n",
       "0     8.1  757074              333.13       76.0  "
      ]
     },
     "execution_count": 37,
     "metadata": {},
     "output_type": "execute_result"
    }
   ],
   "source": [
    "df.head(1)"
   ]
  },
  {
   "cell_type": "code",
   "execution_count": 38,
   "metadata": {},
   "outputs": [
    {
     "data": {
      "text/html": [
       "<div>\n",
       "<style scoped>\n",
       "    .dataframe tbody tr th:only-of-type {\n",
       "        vertical-align: middle;\n",
       "    }\n",
       "\n",
       "    .dataframe tbody tr th {\n",
       "        vertical-align: top;\n",
       "    }\n",
       "\n",
       "    .dataframe thead th {\n",
       "        text-align: right;\n",
       "    }\n",
       "</style>\n",
       "<table border=\"1\" class=\"dataframe\">\n",
       "  <thead>\n",
       "    <tr style=\"text-align: right;\">\n",
       "      <th></th>\n",
       "      <th>Rank</th>\n",
       "      <th>Title</th>\n",
       "      <th>Genre</th>\n",
       "      <th>Description</th>\n",
       "      <th>Director</th>\n",
       "      <th>Actors</th>\n",
       "      <th>Year</th>\n",
       "      <th>Runtime (Minutes)</th>\n",
       "      <th>Rating</th>\n",
       "      <th>Votes</th>\n",
       "      <th>Revenue (Millions)</th>\n",
       "      <th>Metascore</th>\n",
       "    </tr>\n",
       "  </thead>\n",
       "  <tbody>\n",
       "    <tr>\n",
       "      <th>999</th>\n",
       "      <td>1000</td>\n",
       "      <td>Nine Lives</td>\n",
       "      <td>Comedy,Family,Fantasy</td>\n",
       "      <td>A stuffy businessman finds himself trapped ins...</td>\n",
       "      <td>Barry Sonnenfeld</td>\n",
       "      <td>Kevin Spacey, Jennifer Garner, Robbie Amell,Ch...</td>\n",
       "      <td>2016</td>\n",
       "      <td>87</td>\n",
       "      <td>5.3</td>\n",
       "      <td>12435</td>\n",
       "      <td>19.64</td>\n",
       "      <td>11.0</td>\n",
       "    </tr>\n",
       "  </tbody>\n",
       "</table>\n",
       "</div>"
      ],
      "text/plain": [
       "     Rank       Title                  Genre  \\\n",
       "999  1000  Nine Lives  Comedy,Family,Fantasy   \n",
       "\n",
       "                                           Description          Director  \\\n",
       "999  A stuffy businessman finds himself trapped ins...  Barry Sonnenfeld   \n",
       "\n",
       "                                                Actors  Year  \\\n",
       "999  Kevin Spacey, Jennifer Garner, Robbie Amell,Ch...  2016   \n",
       "\n",
       "     Runtime (Minutes)  Rating  Votes  Revenue (Millions)  Metascore  \n",
       "999                 87     5.3  12435               19.64       11.0  "
      ]
     },
     "execution_count": 38,
     "metadata": {},
     "output_type": "execute_result"
    }
   ],
   "source": [
    "df.tail(1)"
   ]
  },
  {
   "cell_type": "markdown",
   "metadata": {},
   "source": [
    "Task 3 - Print out the number of duplicated rows(how many duplicates), and remove them if there is any."
   ]
  },
  {
   "cell_type": "code",
   "execution_count": 39,
   "metadata": {},
   "outputs": [
    {
     "data": {
      "text/plain": [
       "0"
      ]
     },
     "execution_count": 39,
     "metadata": {},
     "output_type": "execute_result"
    }
   ],
   "source": [
    "df.duplicated().sum()\n",
    "#my_data.drop_duplicates(inplace = True) there are no duplicates so no need for this command"
   ]
  },
  {
   "cell_type": "markdown",
   "metadata": {},
   "source": [
    "Task 4 - Extract the name of the feature with the most null entries and it print out."
   ]
  },
  {
   "cell_type": "code",
   "execution_count": 40,
   "metadata": {},
   "outputs": [
    {
     "data": {
      "text/plain": [
       "'Revenue (Millions)'"
      ]
     },
     "execution_count": 40,
     "metadata": {},
     "output_type": "execute_result"
    }
   ],
   "source": [
    "df.count().idxmin()"
   ]
  },
  {
   "cell_type": "markdown",
   "metadata": {},
   "source": [
    "Task 5 - Print out the number of null entries(how many rows contain a null value), and remove them if there is any."
   ]
  },
  {
   "cell_type": "code",
   "execution_count": 41,
   "metadata": {},
   "outputs": [
    {
     "data": {
      "text/plain": [
       "Rank                    0\n",
       "Title                   0\n",
       "Genre                   0\n",
       "Description             0\n",
       "Director                0\n",
       "Actors                  0\n",
       "Year                    0\n",
       "Runtime (Minutes)       0\n",
       "Rating                  0\n",
       "Votes                   0\n",
       "Revenue (Millions)    128\n",
       "Metascore              64\n",
       "dtype: int64"
      ]
     },
     "execution_count": 41,
     "metadata": {},
     "output_type": "execute_result"
    }
   ],
   "source": [
    "df.isnull().sum()"
   ]
  },
  {
   "cell_type": "code",
   "execution_count": 42,
   "metadata": {},
   "outputs": [],
   "source": [
    "df_without_null=df.dropna()"
   ]
  },
  {
   "cell_type": "code",
   "execution_count": 43,
   "metadata": {},
   "outputs": [
    {
     "data": {
      "text/plain": [
       "Rank                  0\n",
       "Title                 0\n",
       "Genre                 0\n",
       "Description           0\n",
       "Director              0\n",
       "Actors                0\n",
       "Year                  0\n",
       "Runtime (Minutes)     0\n",
       "Rating                0\n",
       "Votes                 0\n",
       "Revenue (Millions)    0\n",
       "Metascore             0\n",
       "dtype: int64"
      ]
     },
     "execution_count": 43,
     "metadata": {},
     "output_type": "execute_result"
    }
   ],
   "source": [
    "df_without_null.isnull().sum()"
   ]
  },
  {
   "cell_type": "markdown",
   "metadata": {},
   "source": [
    "Task 6 - set the index of the dataframe to be the Movies feature."
   ]
  },
  {
   "cell_type": "code",
   "execution_count": 44,
   "metadata": {},
   "outputs": [],
   "source": [
    "df_without_null.set_index(['Title'],inplace = True)"
   ]
  },
  {
   "cell_type": "markdown",
   "metadata": {},
   "source": [
    "Task 7 - Clean up the column names<br>\n",
    "7i - Print out all column names<br>\n",
    "7ii- Rename column names which contain spaces and remove them<br>\n",
    "7iii - Convert all column names to lowercase<br>\n"
   ]
  },
  {
   "cell_type": "code",
   "execution_count": 45,
   "metadata": {},
   "outputs": [
    {
     "name": "stdout",
     "output_type": "stream",
     "text": [
      "['Rank', 'Genre', 'Description', 'Director', 'Actors', 'Year', 'Runtime (Minutes)', 'Rating', 'Votes', 'Revenue (Millions)', 'Metascore']\n"
     ]
    }
   ],
   "source": [
    "print(df_without_null.columns.tolist())"
   ]
  },
  {
   "cell_type": "code",
   "execution_count": 46,
   "metadata": {},
   "outputs": [],
   "source": [
    "df_without_null.columns = df_without_null.columns.str.replace(' ', '_')\n"
   ]
  },
  {
   "cell_type": "code",
   "execution_count": 47,
   "metadata": {},
   "outputs": [],
   "source": [
    "df_without_null.columns = df_without_null.columns.str.lower()\n"
   ]
  },
  {
   "cell_type": "markdown",
   "metadata": {},
   "source": [
    "Task 8 Accessing rows<br> - Print out the 659th row<br>Print out the the rows from 330 to 350<br> Print out the row of the Movie named 'The Martian'. "
   ]
  },
  {
   "cell_type": "code",
   "execution_count": 48,
   "metadata": {},
   "outputs": [
    {
     "data": {
      "text/plain": [
       "rank                                                                770\n",
       "genre                                                             Drama\n",
       "description           Life for the residents of a tower block begins...\n",
       "director                                                   Ben Wheatley\n",
       "actors                Tom Hiddleston, Jeremy Irons, Sienna Miller, L...\n",
       "year                                                               2015\n",
       "runtime_(minutes)                                                   119\n",
       "rating                                                              5.7\n",
       "votes                                                             25928\n",
       "revenue_(millions)                                                 0.34\n",
       "metascore                                                          65.0\n",
       "Name: High-Rise, dtype: object"
      ]
     },
     "execution_count": 48,
     "metadata": {},
     "output_type": "execute_result"
    }
   ],
   "source": [
    "df_without_null.iloc[659]"
   ]
  },
  {
   "cell_type": "code",
   "execution_count": 49,
   "metadata": {},
   "outputs": [
    {
     "data": {
      "text/html": [
       "<div>\n",
       "<style scoped>\n",
       "    .dataframe tbody tr th:only-of-type {\n",
       "        vertical-align: middle;\n",
       "    }\n",
       "\n",
       "    .dataframe tbody tr th {\n",
       "        vertical-align: top;\n",
       "    }\n",
       "\n",
       "    .dataframe thead th {\n",
       "        text-align: right;\n",
       "    }\n",
       "</style>\n",
       "<table border=\"1\" class=\"dataframe\">\n",
       "  <thead>\n",
       "    <tr style=\"text-align: right;\">\n",
       "      <th></th>\n",
       "      <th>rank</th>\n",
       "      <th>genre</th>\n",
       "      <th>description</th>\n",
       "      <th>director</th>\n",
       "      <th>actors</th>\n",
       "      <th>year</th>\n",
       "      <th>runtime_(minutes)</th>\n",
       "      <th>rating</th>\n",
       "      <th>votes</th>\n",
       "      <th>revenue_(millions)</th>\n",
       "      <th>metascore</th>\n",
       "    </tr>\n",
       "    <tr>\n",
       "      <th>Title</th>\n",
       "      <th></th>\n",
       "      <th></th>\n",
       "      <th></th>\n",
       "      <th></th>\n",
       "      <th></th>\n",
       "      <th></th>\n",
       "      <th></th>\n",
       "      <th></th>\n",
       "      <th></th>\n",
       "      <th></th>\n",
       "      <th></th>\n",
       "    </tr>\n",
       "  </thead>\n",
       "  <tbody>\n",
       "    <tr>\n",
       "      <th>Sleight</th>\n",
       "      <td>371</td>\n",
       "      <td>Action,Drama,Sci-Fi</td>\n",
       "      <td>A young street magician (Jacob Latimore) is le...</td>\n",
       "      <td>J.D. Dillard</td>\n",
       "      <td>Jacob Latimore, Seychelle Gabriel, Dulé Hill, ...</td>\n",
       "      <td>2016</td>\n",
       "      <td>89</td>\n",
       "      <td>6.0</td>\n",
       "      <td>702</td>\n",
       "      <td>3.85</td>\n",
       "      <td>62.0</td>\n",
       "    </tr>\n",
       "    <tr>\n",
       "      <th>The Maze Runner</th>\n",
       "      <td>372</td>\n",
       "      <td>Action,Mystery,Sci-Fi</td>\n",
       "      <td>Thomas is deposited in a community of boys aft...</td>\n",
       "      <td>Wes Ball</td>\n",
       "      <td>Dylan O'Brien, Kaya Scodelario, Will Poulter, ...</td>\n",
       "      <td>2014</td>\n",
       "      <td>113</td>\n",
       "      <td>6.8</td>\n",
       "      <td>335531</td>\n",
       "      <td>102.41</td>\n",
       "      <td>57.0</td>\n",
       "    </tr>\n",
       "  </tbody>\n",
       "</table>\n",
       "</div>"
      ],
      "text/plain": [
       "                 rank                  genre  \\\n",
       "Title                                          \n",
       "Sleight           371    Action,Drama,Sci-Fi   \n",
       "The Maze Runner   372  Action,Mystery,Sci-Fi   \n",
       "\n",
       "                                                       description  \\\n",
       "Title                                                                \n",
       "Sleight          A young street magician (Jacob Latimore) is le...   \n",
       "The Maze Runner  Thomas is deposited in a community of boys aft...   \n",
       "\n",
       "                     director  \\\n",
       "Title                           \n",
       "Sleight          J.D. Dillard   \n",
       "The Maze Runner      Wes Ball   \n",
       "\n",
       "                                                            actors  year  \\\n",
       "Title                                                                      \n",
       "Sleight          Jacob Latimore, Seychelle Gabriel, Dulé Hill, ...  2016   \n",
       "The Maze Runner  Dylan O'Brien, Kaya Scodelario, Will Poulter, ...  2014   \n",
       "\n",
       "                 runtime_(minutes)  rating   votes  revenue_(millions)  \\\n",
       "Title                                                                    \n",
       "Sleight                         89     6.0     702                3.85   \n",
       "The Maze Runner                113     6.8  335531              102.41   \n",
       "\n",
       "                 metascore  \n",
       "Title                       \n",
       "Sleight               62.0  \n",
       "The Maze Runner       57.0  "
      ]
     },
     "execution_count": 49,
     "metadata": {},
     "output_type": "execute_result"
    }
   ],
   "source": [
    "df_without_null.iloc[330:332]"
   ]
  },
  {
   "cell_type": "code",
   "execution_count": 50,
   "metadata": {},
   "outputs": [
    {
     "data": {
      "text/plain": [
       "rank                                                                103\n",
       "genre                                            Adventure,Drama,Sci-Fi\n",
       "description           An astronaut becomes stranded on Mars after hi...\n",
       "director                                                   Ridley Scott\n",
       "actors                Matt Damon, Jessica Chastain, Kristen Wiig, Ka...\n",
       "year                                                               2015\n",
       "runtime_(minutes)                                                   144\n",
       "rating                                                              8.0\n",
       "votes                                                            556097\n",
       "revenue_(millions)                                               228.43\n",
       "metascore                                                          80.0\n",
       "Name: The Martian, dtype: object"
      ]
     },
     "execution_count": 50,
     "metadata": {},
     "output_type": "execute_result"
    }
   ],
   "source": [
    "df_without_null.loc['The Martian']"
   ]
  },
  {
   "cell_type": "markdown",
   "metadata": {},
   "source": [
    "Task 9 - Create a new function which should take a genre as an input , detect wether there are multiple genres and return True if there is , False if there is not.\n",
    "Create a new Column named multi_genre and apply the above function to fill it."
   ]
  },
  {
   "cell_type": "code",
   "execution_count": 51,
   "metadata": {},
   "outputs": [],
   "source": [
    "def genre_check(genre):\n",
    "    if ',' in genre :\n",
    "        return True\n",
    "    else:\n",
    "        return False"
   ]
  },
  {
   "cell_type": "code",
   "execution_count": 52,
   "metadata": {},
   "outputs": [],
   "source": [
    "df_without_null=df_without_null.copy()\n",
    "df_without_null['multi_genre']=df_without_null['genre'].apply(genre_check)\n"
   ]
  },
  {
   "cell_type": "markdown",
   "metadata": {},
   "source": [
    "Task 10 - Write back your dataframe to a new csv file."
   ]
  },
  {
   "cell_type": "code",
   "execution_count": 53,
   "metadata": {},
   "outputs": [],
   "source": [
    "df_without_null.to_csv('modified_data.csv')"
   ]
  },
  {
   "cell_type": "code",
   "execution_count": null,
   "metadata": {},
   "outputs": [],
   "source": []
  }
 ],
 "metadata": {
  "kernelspec": {
   "display_name": "Python 3",
   "language": "python",
   "name": "python3"
  },
  "language_info": {
   "codemirror_mode": {
    "name": "ipython",
    "version": 3
   },
   "file_extension": ".py",
   "mimetype": "text/x-python",
   "name": "python",
   "nbconvert_exporter": "python",
   "pygments_lexer": "ipython3",
   "version": "3.8.8"
  }
 },
 "nbformat": 4,
 "nbformat_minor": 4
}
