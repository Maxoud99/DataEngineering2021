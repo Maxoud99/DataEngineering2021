{
 "cells": [
  {
   "cell_type": "markdown",
   "metadata": {},
   "source": [
    "## One Hot Encoding of Frequent Categories\n",
    "\n",
    "We learned in Section 3 that high cardinality and rare labels may result in certain categories appearing only in the train set, therefore causing over-fitting, or only in the test set, and then our models wouldn't know how to score those observations.\n",
    "\n",
    "We also learned in the previous lecture on one hot encoding, that if categorical variables contain multiple labels, then by re-encoding them with dummy variables we will expand the feature space dramatically.\n",
    "\n",
    "**In order to avoid these complications, we can create dummy variables only for the most frequent categories**\n",
    "\n",
    "This procedure is also called one hot encoding of top categories.\n",
    "\n",
    "In fact, in the winning solution of the KDD 2009 cup: [\"Winning the KDD Cup Orange Challenge with Ensemble Selection\"](http://www.mtome.com/Publications/CiML/CiML-v3-book.pdf), the authors limit one hot encoding to the 10 most frequent labels of the variable. This means that they would make one binary variable for each of the 10 most frequent labels only.\n",
    "\n",
    "OHE of frequent or top categories is equivalent to grouping all the remaining categories under a new category. We will have a better look at grouping rare values into a new category in a later notebook in this section.\n",
    "\n",
    "\n",
    "### Advantages of OHE of top categories\n",
    "\n",
    "- Straightforward to implement\n",
    "- Does not require hrs of variable exploration\n",
    "- Does not expand massively the feature space\n",
    "- Suitable for linear models\n",
    "\n",
    "\n",
    "### Limitations\n",
    "\n",
    "- Does not add any information that may make the variable more predictive\n",
    "- Does not keep the information of the ignored labels\n",
    "\n",
    "\n",
    "Often, categorical variables show a few dominating categories while the remaining labels add little information. Therefore, OHE of top categories is a simple and useful technique.\n",
    "\n",
    "### Note\n",
    "\n",
    "The number of top variables is set arbitrarily. In the KDD competition the authors selected 10, but it could have been 15 or 5 as well. This number can be chosen arbitrarily or derived from data exploration.\n",
    "\n",
    "\n",
    "## In this demo:\n",
    "\n",
    "We will see how to perform one hot encoding with:\n",
    "- pandas and NumPy\n",
    "- Feature-Engine\n",
    "\n",
    "And the advantages and limitations of these implementations using the House Prices dataset."
   ]
  },
  {
   "cell_type": "code",
   "execution_count": 1,
   "metadata": {},
   "outputs": [],
   "source": [
    "import numpy as np\n",
    "import pandas as pd\n",
    "\n",
    "# to split the datasets\n",
    "from sklearn.model_selection import train_test_split\n",
    "\n",
    "# for one hot encoding with feature-engine\n",
    "# from feature_engine.categorical_encoders import OneHotCategoricalEncoder"
   ]
  },
  {
   "cell_type": "code",
   "execution_count": 2,
   "metadata": {},
   "outputs": [
    {
     "data": {
      "text/html": [
       "<div>\n",
       "<style scoped>\n",
       "    .dataframe tbody tr th:only-of-type {\n",
       "        vertical-align: middle;\n",
       "    }\n",
       "\n",
       "    .dataframe tbody tr th {\n",
       "        vertical-align: top;\n",
       "    }\n",
       "\n",
       "    .dataframe thead th {\n",
       "        text-align: right;\n",
       "    }\n",
       "</style>\n",
       "<table border=\"1\" class=\"dataframe\">\n",
       "  <thead>\n",
       "    <tr style=\"text-align: right;\">\n",
       "      <th></th>\n",
       "      <th>Neighborhood</th>\n",
       "      <th>Exterior1st</th>\n",
       "      <th>Exterior2nd</th>\n",
       "      <th>SalePrice</th>\n",
       "    </tr>\n",
       "  </thead>\n",
       "  <tbody>\n",
       "    <tr>\n",
       "      <th>0</th>\n",
       "      <td>CollgCr</td>\n",
       "      <td>VinylSd</td>\n",
       "      <td>VinylSd</td>\n",
       "      <td>208500</td>\n",
       "    </tr>\n",
       "  </tbody>\n",
       "</table>\n",
       "</div>"
      ],
      "text/plain": [
       "  Neighborhood Exterior1st Exterior2nd  SalePrice\n",
       "0      CollgCr     VinylSd     VinylSd     208500"
      ]
     },
     "execution_count": 2,
     "metadata": {},
     "output_type": "execute_result"
    }
   ],
   "source": [
    "# load selected columns from dataset in csv file \n",
    "# with the following features 'Neighborhood', 'Exterior1st', 'Exterior2nd', 'SalePrice'\n",
    "data = pd.read_csv('houseprice.csv', usecols=['Neighborhood', 'Exterior1st', 'Exterior2nd', 'SalePrice'])\n",
    "\n",
    "# Retrieve 1st 5 rows\n",
    "data.head(1)"
   ]
  },
  {
   "cell_type": "code",
   "execution_count": 3,
   "metadata": {},
   "outputs": [
    {
     "name": "stdout",
     "output_type": "stream",
     "text": [
      "Neighborhood :  25  labels\n",
      "Exterior1st :  15  labels\n",
      "Exterior2nd :  16  labels\n",
      "SalePrice :  663  labels\n"
     ]
    }
   ],
   "source": [
    "# print out the cardinality of each feature \n",
    "for col in data.columns:\n",
    "    print(col, ': ', len(data[col].unique()), ' labels')"
   ]
  },
  {
   "cell_type": "code",
   "execution_count": 4,
   "metadata": {},
   "outputs": [
    {
     "data": {
      "text/plain": [
       "array(['CollgCr', 'Veenker', 'Crawfor', 'NoRidge', 'Mitchel', 'Somerst',\n",
       "       'NWAmes', 'OldTown', 'BrkSide', 'Sawyer', 'NridgHt', 'NAmes',\n",
       "       'SawyerW', 'IDOTRR', 'MeadowV', 'Edwards', 'Timber', 'Gilbert',\n",
       "       'StoneBr', 'ClearCr', 'NPkVill', 'Blmngtn', 'BrDale', 'SWISU',\n",
       "       'Blueste'], dtype=object)"
      ]
     },
     "execution_count": 4,
     "metadata": {},
     "output_type": "execute_result"
    }
   ],
   "source": [
    "# Get unique values for variables ‘Neighborhood'\n",
    "data.Neighborhood.unique()"
   ]
  },
  {
   "cell_type": "code",
   "execution_count": 5,
   "metadata": {},
   "outputs": [
    {
     "data": {
      "text/plain": [
       "array(['VinylSd', 'MetalSd', 'Wd Sdng', 'HdBoard', 'BrkFace', 'WdShing',\n",
       "       'CemntBd', 'Plywood', 'AsbShng', 'Stucco', 'BrkComm', 'AsphShn',\n",
       "       'Stone', 'ImStucc', 'CBlock'], dtype=object)"
      ]
     },
     "execution_count": 5,
     "metadata": {},
     "output_type": "execute_result"
    }
   ],
   "source": [
    "# Get unique values for variables ‘Exterior1st'\n",
    "data.Exterior1st.unique()"
   ]
  },
  {
   "cell_type": "code",
   "execution_count": 6,
   "metadata": {},
   "outputs": [
    {
     "data": {
      "text/plain": [
       "array(['VinylSd', 'MetalSd', 'Wd Shng', 'HdBoard', 'Plywood', 'Wd Sdng',\n",
       "       'CmentBd', 'BrkFace', 'Stucco', 'AsbShng', 'Brk Cmn', 'ImStucc',\n",
       "       'AsphShn', 'Stone', 'Other', 'CBlock'], dtype=object)"
      ]
     },
     "execution_count": 6,
     "metadata": {},
     "output_type": "execute_result"
    }
   ],
   "source": [
    "# Get unique values for variables ‘Exterior2nd'\n",
    "data.Exterior2nd.unique()"
   ]
  },
  {
   "cell_type": "markdown",
   "metadata": {},
   "source": [
    "### Encoding important\n",
    "\n",
    "It is important to select the top or most frequent categories based of the train data. Then, we will use those top categories to encode the variables in the test data as well"
   ]
  },
  {
   "cell_type": "code",
   "execution_count": 7,
   "metadata": {},
   "outputs": [
    {
     "data": {
      "text/plain": [
       "((1022, 3), (438, 3))"
      ]
     },
     "execution_count": 7,
     "metadata": {},
     "output_type": "execute_result"
    }
   ],
   "source": [
    "# let's separate into training and testing set\n",
    "\n",
    "X_train, X_test, y_train, y_test = train_test_split(\n",
    "    data[['Neighborhood', 'Exterior1st', 'Exterior2nd']],  # predictors\n",
    "    data['SalePrice'],  # target\n",
    "    test_size=0.3,  # percentage of obs in test set\n",
    "    random_state=0)  # seed to ensure reproducibility\n",
    "\n",
    "# Get dimension of X_train and X_test\n",
    "X_train.shape, X_test.shape"
   ]
  },
  {
   "cell_type": "code",
   "execution_count": 8,
   "metadata": {},
   "outputs": [
    {
     "data": {
      "text/plain": [
       "(1022, 53)"
      ]
     },
     "execution_count": 8,
     "metadata": {},
     "output_type": "execute_result"
    }
   ],
   "source": [
    "# examine OHE k-1(i.e drop the first dummy) and gets its dimension\n",
    "pd.get_dummies(X_train, drop_first=True).shape\n"
   ]
  },
  {
   "cell_type": "markdown",
   "metadata": {},
   "source": [
    "From the initial 3 categorical variables, we end up with 53 variables. \n",
    "\n",
    "These numbers are still not huge, and in practice we could work with them relatively easily. However, in real-life datasets, categorical variables can be highly cardinal, and with OHE we can end up with datasets with thousands of columns.\n",
    "\n",
    "\n",
    "## OHE with pandas and NumPy\n",
    "\n",
    "\n",
    "### Advantages\n",
    "\n",
    "- quick\n",
    "- returns pandas dataframe\n",
    "- returns feature names for the dummy variables\n",
    "\n",
    "### Limitations:\n",
    "\n",
    "- it does not preserve information from train data to propagate to test data"
   ]
  },
  {
   "cell_type": "code",
   "execution_count": 9,
   "metadata": {},
   "outputs": [
    {
     "name": "stdout",
     "output_type": "stream",
     "text": [
      "<class 'pandas.core.series.Series'>\n",
      "['NAmes', 'CollgCr', 'OldTown', 'Edwards', 'Sawyer', 'Somerst', 'Gilbert', 'NWAmes', 'NridgHt', 'SawyerW']\n"
     ]
    }
   ],
   "source": [
    "# let's find the top 10 most frequent categories for the variable 'Neighborhood'\n",
    "neigbhorhood_freqeuncy = X_train['Neighborhood'].value_counts().sort_values(ascending=False)\n",
    "# retrieve 1st 10 rows\n",
    "# store only the first 10 catgeories\n",
    "top_10 = neigbhorhood_freqeuncy.head(10)\n",
    "print(type(top_10))\n",
    "print(top_10.index.to_list())"
   ]
  },
  {
   "cell_type": "code",
   "execution_count": 10,
   "metadata": {},
   "outputs": [],
   "source": [
    "# let's make a list with the most frequent categories of the variable\n",
    "\n",
    "top_10 = [\n",
    "    x for x in X_train['Neighborhood'].value_counts().sort_values(ascending=False).head(10).index\n",
    "]\n",
    "\n",
    "# top_10"
   ]
  },
  {
   "cell_type": "code",
   "execution_count": 11,
   "metadata": {},
   "outputs": [
    {
     "data": {
      "text/html": [
       "<div>\n",
       "<style scoped>\n",
       "    .dataframe tbody tr th:only-of-type {\n",
       "        vertical-align: middle;\n",
       "    }\n",
       "\n",
       "    .dataframe tbody tr th {\n",
       "        vertical-align: top;\n",
       "    }\n",
       "\n",
       "    .dataframe thead th {\n",
       "        text-align: right;\n",
       "    }\n",
       "</style>\n",
       "<table border=\"1\" class=\"dataframe\">\n",
       "  <thead>\n",
       "    <tr style=\"text-align: right;\">\n",
       "      <th></th>\n",
       "      <th>Neighborhood</th>\n",
       "      <th>Neighborhood_NAmes</th>\n",
       "      <th>Neighborhood_CollgCr</th>\n",
       "      <th>Neighborhood_OldTown</th>\n",
       "      <th>Neighborhood_Edwards</th>\n",
       "      <th>Neighborhood_Sawyer</th>\n",
       "      <th>Neighborhood_Somerst</th>\n",
       "      <th>Neighborhood_Gilbert</th>\n",
       "      <th>Neighborhood_NWAmes</th>\n",
       "      <th>Neighborhood_NridgHt</th>\n",
       "      <th>Neighborhood_SawyerW</th>\n",
       "    </tr>\n",
       "  </thead>\n",
       "  <tbody>\n",
       "    <tr>\n",
       "      <th>64</th>\n",
       "      <td>CollgCr</td>\n",
       "      <td>0</td>\n",
       "      <td>1</td>\n",
       "      <td>0</td>\n",
       "      <td>0</td>\n",
       "      <td>0</td>\n",
       "      <td>0</td>\n",
       "      <td>0</td>\n",
       "      <td>0</td>\n",
       "      <td>0</td>\n",
       "      <td>0</td>\n",
       "    </tr>\n",
       "  </tbody>\n",
       "</table>\n",
       "</div>"
      ],
      "text/plain": [
       "   Neighborhood  Neighborhood_NAmes  Neighborhood_CollgCr  \\\n",
       "64      CollgCr                   0                     1   \n",
       "\n",
       "    Neighborhood_OldTown  Neighborhood_Edwards  Neighborhood_Sawyer  \\\n",
       "64                     0                     0                    0   \n",
       "\n",
       "    Neighborhood_Somerst  Neighborhood_Gilbert  Neighborhood_NWAmes  \\\n",
       "64                     0                     0                    0   \n",
       "\n",
       "    Neighborhood_NridgHt  Neighborhood_SawyerW  \n",
       "64                     0                     0  "
      ]
     },
     "execution_count": 11,
     "metadata": {},
     "output_type": "execute_result"
    }
   ],
   "source": [
    "# and now we make the 10 binary variables\n",
    "for label in top_10:\n",
    "    X_train['Neighborhood' + '_' + label] = np.where(\n",
    "        X_train['Neighborhood'] == label, 1, 0)\n",
    "    \n",
    "    #Repeat for X_test\n",
    "    \n",
    "    X_test['Neighborhood' + '_' + label] = np.where(\n",
    "        X_test['Neighborhood'] == label, 1, 0)\n",
    "# let's visualise the result\n",
    "X_train[['Neighborhood'] + ['Neighborhood'+'_'+c for c in top_10]].head(1)"
   ]
  },
  {
   "cell_type": "code",
   "execution_count": 12,
   "metadata": {},
   "outputs": [],
   "source": [
    "# turn the previous commands into 2 functions\n",
    "\n",
    "\n",
    "def calculate_top_categories(df, variable, how_many):\n",
    "    top = [\n",
    "    x for x in df[variable].value_counts().sort_values(ascending=False).head(how_many).index\n",
    "]\n",
    "    return top\n",
    "\n",
    "\n",
    "def one_hot_encode(train, test, variable, top_x_labels):\n",
    "\n",
    "    for label in top_x_labels:\n",
    "        train[variable + '_' + label] = np.where(train[variable] == label, 1, 0)\n",
    "    \n",
    "    #Repeat for X_test\n",
    "    \n",
    "        test[variable + '_' + label] = np.where(test[variable] == label, 1, 0)\n",
    "    # let's visualise the result\n",
    "    #train[[variable] + [variable +'_'+c for c in top_10]].head(10)"
   ]
  },
  {
   "cell_type": "code",
   "execution_count": 13,
   "metadata": {},
   "outputs": [],
   "source": [
    "# and now we run a loop over the remaining categorical variables 'Exterior1st', 'Exterior2nd'\n",
    "\n",
    "#--> There was a Mistake <--, ==>> for variable in ['Exterior1st', 'Exterior1st'] <<==\n",
    "\n",
    "for variable in ['Exterior1st', 'Exterior2nd']:\n",
    "    \n",
    "    # Retrieve top 10 categories from X_train\n",
    "    toppp= calculate_top_categories(X_train, variable, 10)\n",
    "    \n",
    "    # creat OHE on both X_train, X_test\n",
    "    one_hot_encode(X_train, X_test, variable, toppp)"
   ]
  },
  {
   "cell_type": "code",
   "execution_count": 14,
   "metadata": {},
   "outputs": [
    {
     "data": {
      "text/html": [
       "<div>\n",
       "<style scoped>\n",
       "    .dataframe tbody tr th:only-of-type {\n",
       "        vertical-align: middle;\n",
       "    }\n",
       "\n",
       "    .dataframe tbody tr th {\n",
       "        vertical-align: top;\n",
       "    }\n",
       "\n",
       "    .dataframe thead th {\n",
       "        text-align: right;\n",
       "    }\n",
       "</style>\n",
       "<table border=\"1\" class=\"dataframe\">\n",
       "  <thead>\n",
       "    <tr style=\"text-align: right;\">\n",
       "      <th></th>\n",
       "      <th>Neighborhood</th>\n",
       "      <th>Exterior1st</th>\n",
       "      <th>Exterior2nd</th>\n",
       "      <th>Neighborhood_NAmes</th>\n",
       "      <th>Neighborhood_CollgCr</th>\n",
       "      <th>Neighborhood_OldTown</th>\n",
       "      <th>Neighborhood_Edwards</th>\n",
       "      <th>Neighborhood_Sawyer</th>\n",
       "      <th>Neighborhood_Somerst</th>\n",
       "      <th>Neighborhood_Gilbert</th>\n",
       "      <th>...</th>\n",
       "      <th>Exterior2nd_VinylSd</th>\n",
       "      <th>Exterior2nd_Wd Sdng</th>\n",
       "      <th>Exterior2nd_HdBoard</th>\n",
       "      <th>Exterior2nd_MetalSd</th>\n",
       "      <th>Exterior2nd_Plywood</th>\n",
       "      <th>Exterior2nd_CmentBd</th>\n",
       "      <th>Exterior2nd_Wd Shng</th>\n",
       "      <th>Exterior2nd_BrkFace</th>\n",
       "      <th>Exterior2nd_AsbShng</th>\n",
       "      <th>Exterior2nd_Stucco</th>\n",
       "    </tr>\n",
       "  </thead>\n",
       "  <tbody>\n",
       "    <tr>\n",
       "      <th>64</th>\n",
       "      <td>CollgCr</td>\n",
       "      <td>VinylSd</td>\n",
       "      <td>VinylSd</td>\n",
       "      <td>0</td>\n",
       "      <td>1</td>\n",
       "      <td>0</td>\n",
       "      <td>0</td>\n",
       "      <td>0</td>\n",
       "      <td>0</td>\n",
       "      <td>0</td>\n",
       "      <td>...</td>\n",
       "      <td>1</td>\n",
       "      <td>0</td>\n",
       "      <td>0</td>\n",
       "      <td>0</td>\n",
       "      <td>0</td>\n",
       "      <td>0</td>\n",
       "      <td>0</td>\n",
       "      <td>0</td>\n",
       "      <td>0</td>\n",
       "      <td>0</td>\n",
       "    </tr>\n",
       "  </tbody>\n",
       "</table>\n",
       "<p>1 rows × 33 columns</p>\n",
       "</div>"
      ],
      "text/plain": [
       "   Neighborhood Exterior1st Exterior2nd  Neighborhood_NAmes  \\\n",
       "64      CollgCr     VinylSd     VinylSd                   0   \n",
       "\n",
       "    Neighborhood_CollgCr  Neighborhood_OldTown  Neighborhood_Edwards  \\\n",
       "64                     1                     0                     0   \n",
       "\n",
       "    Neighborhood_Sawyer  Neighborhood_Somerst  Neighborhood_Gilbert  ...  \\\n",
       "64                    0                     0                     0  ...   \n",
       "\n",
       "    Exterior2nd_VinylSd  Exterior2nd_Wd Sdng  Exterior2nd_HdBoard  \\\n",
       "64                    1                    0                    0   \n",
       "\n",
       "    Exterior2nd_MetalSd  Exterior2nd_Plywood  Exterior2nd_CmentBd  \\\n",
       "64                    0                    0                    0   \n",
       "\n",
       "    Exterior2nd_Wd Shng  Exterior2nd_BrkFace  Exterior2nd_AsbShng  \\\n",
       "64                    0                    0                    0   \n",
       "\n",
       "    Exterior2nd_Stucco  \n",
       "64                   0  \n",
       "\n",
       "[1 rows x 33 columns]"
      ]
     },
     "execution_count": 14,
     "metadata": {},
     "output_type": "execute_result"
    }
   ],
   "source": [
    "# let's retrieve 1st 5 rows of train dataset\n",
    "X_train.head(1)\n"
   ]
  },
  {
   "cell_type": "markdown",
   "metadata": {},
   "source": [
    "Note how we now have 30 additional dummy variables instead of the 53 that we would have had if we had created dummies for all categories."
   ]
  },
  {
   "cell_type": "code",
   "execution_count": 33,
   "metadata": {},
   "outputs": [
    {
     "name": "stdout",
     "output_type": "stream",
     "text": [
      "ABDELMAKSOUD\n"
     ]
    }
   ],
   "source": [
    "print(\"ABDELMAKSOUD\")"
   ]
  },
  {
   "cell_type": "code",
   "execution_count": null,
   "metadata": {},
   "outputs": [],
   "source": []
  }
 ],
 "metadata": {
  "kernelspec": {
   "display_name": "Python 3",
   "language": "python",
   "name": "python3"
  },
  "language_info": {
   "codemirror_mode": {
    "name": "ipython",
    "version": 3
   },
   "file_extension": ".py",
   "mimetype": "text/x-python",
   "name": "python",
   "nbconvert_exporter": "python",
   "pygments_lexer": "ipython3",
   "version": "3.8.8"
  },
  "toc": {
   "base_numbering": 1,
   "nav_menu": {},
   "number_sections": true,
   "sideBar": true,
   "skip_h1_title": false,
   "title_cell": "Table of Contents",
   "title_sidebar": "Contents",
   "toc_cell": false,
   "toc_position": {},
   "toc_section_display": "block",
   "toc_window_display": true
  }
 },
 "nbformat": 4,
 "nbformat_minor": 2
}
