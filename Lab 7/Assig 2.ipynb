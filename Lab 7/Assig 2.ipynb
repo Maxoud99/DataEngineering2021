{
 "cells": [
  {
   "cell_type": "markdown",
   "metadata": {},
   "source": [
    "## SQL ASSIGNMENT - DEADLINE on THURSDAY, 11TH OF NOVEMBER.Time: 11.59pm.\n",
    "### Save your notebook with your id number and send by email to badr.tarek@guc.edu.eg"
   ]
  },
  {
   "cell_type": "markdown",
   "metadata": {},
   "source": [
    "For this assignment you will be required to connect to an an existing database which was included with the notebook named chicago_database.db, execute some SQL Staments to extract insights from the database.  .<br>\n",
    "If, for any reason you cannot access the database inside the zip file you can\n",
    "[DOWNLOAD THE DATABASE]( https://drive.google.com/file/d/172wbU7ssyhPM63LGWa-vn9R4WqzzgZYm/view?usp=sharing)\n",
    "<br>About the database - This database gives some insights regarding overall life quality in each area of Chicago,Chicago's crime data,  as well as quality of the schools.\n",
    "<br>The database has 3 tables named chicago_census_data,chicago_crime_data,chicago_public_shcools.\n",
    "<br>Please note that it is advisable to download the [database browser for sqlite](https://sqlitebrowser.org/dl/) to easily visualise the database with it its different contents. You could also execute sql statements directly in the appllication."
   ]
  },
  {
   "cell_type": "markdown",
   "metadata": {},
   "source": [
    "Task 1- import the necessary packages, establish a connection, make sure you plug in the exact name of the file and directory (preferably place the database in the same directory as the your notebook)"
   ]
  },
  {
   "cell_type": "code",
   "execution_count": 10,
   "metadata": {},
   "outputs": [],
   "source": [
    "import sqlite3 as sql\n",
    "import pandas as pd"
   ]
  },
  {
   "cell_type": "code",
   "execution_count": 11,
   "metadata": {},
   "outputs": [],
   "source": [
    "con = sql.connect('Chicago_database.db')\n"
   ]
  },
  {
   "cell_type": "markdown",
   "metadata": {},
   "source": [
    "Task 2 - create a cursor object to be able to execute SQL statements. "
   ]
  },
  {
   "cell_type": "code",
   "execution_count": 12,
   "metadata": {},
   "outputs": [],
   "source": [
    "cursorObj = con.cursor()"
   ]
  },
  {
   "cell_type": "markdown",
   "metadata": {},
   "source": [
    "When you download a database it would be useful to get all the column names of a table so that you could get an easier understanding of the table and it would also help when writing your statements.In SQL the statement to extract info about the table is ***PRAGMA table_info(table_name)*** \n",
    "<br><br> Task 3 i. Create a function named extract_features which would take the name of the table as its argument and return a list containg the features.\n",
    "<br><br> Tip - PRAGMA table_info(*table_name*) returns a list of tuples, each tuple contains info about the column , the name of the column is the second element of the tuple.So you would need to extract the second element of each tuple and store them in a new list. "
   ]
  },
  {
   "cell_type": "markdown",
   "metadata": {},
   "source": [
    "3ii. Print out the column names of each table"
   ]
  },
  {
   "cell_type": "code",
   "execution_count": 27,
   "metadata": {},
   "outputs": [],
   "source": [
    "def extract_features(table_name):\n",
    "    \n",
    "#     con = sql.connect('Chicago_database.db')\n",
    "#     cursorObj = con.cursor()\n",
    "    info = cursorObj.execute(f\"pragma table_info({table_name})\")\n",
    "    print(info)\n",
    "    data = info.fetchall()\n",
    "    return data\n",
    " "
   ]
  },
  {
   "cell_type": "code",
   "execution_count": 34,
   "metadata": {},
   "outputs": [
    {
     "name": "stdout",
     "output_type": "stream",
     "text": [
      "<sqlite3.Cursor object at 0x0000016DB28925E0>\n",
      "<sqlite3.Cursor object at 0x0000016DB28925E0>\n",
      "<sqlite3.Cursor object at 0x0000016DB28925E0>\n"
     ]
    }
   ],
   "source": [
    "census=extract_features('Chicago_Census_Data')\n",
    "crime= extract_features(\"chicago_crime_data\")\n",
    "schools=extract_features(\"chicago_public_schools\")"
   ]
  },
  {
   "cell_type": "code",
   "execution_count": 35,
   "metadata": {},
   "outputs": [],
   "source": [
    "def get_col_name(list_of_fetures):\n",
    "    names_list=[]\n",
    "    for x in list_of_fetures:\n",
    "        names_list.append(x[1])\n",
    "    return names_list"
   ]
  },
  {
   "cell_type": "code",
   "execution_count": 38,
   "metadata": {},
   "outputs": [
    {
     "name": "stdout",
     "output_type": "stream",
     "text": [
      "Chicago_Census_Data\n",
      "['COMMUNITY_AREA_NUMBER', 'COMMUNITY_AREA_NAME', 'PERCENT_OF_HOUSING_CROWDED', 'PERCENT_HOUSEHOLDS_BELOW_POVERTY', 'PERCENT_AGED_16__UNEMPLOYED', 'PERCENT_AGED_25__WITHOUT_HIGH_SCHOOL_DIPLOMA', 'PERCENT_AGED_UNDER_18_OR_OVER_64', 'PER_CAPITA_INCOME', 'HARDSHIP_INDEX']\n",
      "9\n",
      "\n",
      "table chicago_crime_data\n",
      "['ID', 'CASE_NUMBER', 'DATE', 'BLOCK', 'IUCR', 'PRIMARY_TYPE', 'DESCRIPTION', 'LOCATION_DESCRIPTION', 'ARREST', 'DOMESTIC', 'BEAT', 'DISTRICT', 'WARD', 'COMMUNITY_AREA_NUMBER', 'FBICODE', 'X_COORDINATE', 'Y_COORDINATE', 'YEAR', 'LATITUDE', 'LONGITUDE', 'LOCATION']\n",
      "21\n",
      "\n",
      "chicago_public_schools\n",
      "['School_ID', 'NAME_OF_SCHOOL', 'Elementary, Middle, or High School', 'Street_Address', 'City', 'State', 'ZIP_Code', 'Phone_Number', 'Link', 'Network_Manager', 'Collaborative_Name', 'Adequate_Yearly_Progress_Made_', 'Track_Schedule', 'CPS_Performance_Policy_Status', 'CPS_Performance_Policy_Level', 'HEALTHY_SCHOOL_CERTIFIED', 'Safety_Icon', 'SAFETY_SCORE', 'Family_Involvement_Icon', 'Family_Involvement_Score', 'Environment_Icon', 'Environment_Score', 'Instruction_Icon', 'Instruction_Score', 'Leaders_Icon', 'Leaders_Score', 'Teachers_Icon', 'Teachers_Score', 'Parent_Engagement_Icon', 'Parent_Engagement_Score', 'Parent_Environment_Icon', 'Parent_Environment_Score', 'AVERAGE_STUDENT_ATTENDANCE', 'Rate_of_Misconducts__per_100_students_', 'Average_Teacher_Attendance', 'Individualized_Education_Program_Compliance_Rate', 'Pk_2_Literacy__', 'Pk_2_Math__', 'Gr3_5_Grade_Level_Math__', 'Gr3_5_Grade_Level_Read__', 'Gr3_5_Keep_Pace_Read__', 'Gr3_5_Keep_Pace_Math__', 'Gr6_8_Grade_Level_Math__', 'Gr6_8_Grade_Level_Read__', 'Gr6_8_Keep_Pace_Math_', 'Gr6_8_Keep_Pace_Read__', 'Gr_8_Explore_Math__', 'Gr_8_Explore_Read__', 'ISAT_Exceeding_Math__', 'ISAT_Exceeding_Reading__', 'ISAT_Value_Add_Math', 'ISAT_Value_Add_Read', 'ISAT_Value_Add_Color_Math', 'ISAT_Value_Add_Color_Read', 'Students_Taking__Algebra__', 'Students_Passing__Algebra__', '9th Grade EXPLORE (2009)', '9th Grade EXPLORE (2010)', '10th Grade PLAN (2009)', '10th Grade PLAN (2010)', 'Net_Change_EXPLORE_and_PLAN', '11th Grade Average ACT (2011)', 'Net_Change_PLAN_and_ACT', 'College_Eligibility__', 'Graduation_Rate__', 'College_Enrollment_Rate__', 'COLLEGE_ENROLLMENT', 'General_Services_Route', 'Freshman_on_Track_Rate__', 'X_COORDINATE', 'Y_COORDINATE', 'Latitude', 'Longitude', 'COMMUNITY_AREA_NUMBER', 'COMMUNITY_AREA_NAME', 'Ward', 'Police_District', 'Location']\n",
      "78\n"
     ]
    }
   ],
   "source": [
    "print(\"Chicago_Census_Data\")\n",
    "print(get_col_name(census))\n",
    "print(str(len(get_col_name(census))))\n",
    "print(\"\")\n",
    "print(\"table chicago_crime_data\")\n",
    "print(get_col_name(crime))\n",
    "print(str(len(get_col_name(crime))))\n",
    "print(\"\")\n",
    "print(\"chicago_public_schools\")\n",
    "print(get_col_name(schools))\n",
    "print(str(len(get_col_name(schools))))"
   ]
  },
  {
   "cell_type": "markdown",
   "metadata": {},
   "source": [
    "Task 4 - Create a function which would allow you to pass in a query,execute it and print out the results."
   ]
  },
  {
   "cell_type": "code",
   "execution_count": 48,
   "metadata": {},
   "outputs": [],
   "source": [
    "def sql_execute(query):\n",
    "\n",
    "    cursorObj.execute(query)\n",
    "\n",
    "    rows = cursorObj.fetchall()\n",
    "    \n",
    "    [print(row) for row in rows]\n"
   ]
  },
  {
   "cell_type": "markdown",
   "metadata": {},
   "source": [
    "-Task 5 - Pass in sql statement to your function for each of the following questions."
   ]
  },
  {
   "cell_type": "markdown",
   "metadata": {},
   "source": [
    "1. Print the total number of crimes recorded in the CRIME table."
   ]
  },
  {
   "cell_type": "code",
   "execution_count": 49,
   "metadata": {
    "scrolled": true
   },
   "outputs": [
    {
     "name": "stdout",
     "output_type": "stream",
     "text": [
      "(533,)\n"
     ]
    }
   ],
   "source": [
    "sql_execute('SELECT COUNT(*) from chicago_crime_data')\n"
   ]
  },
  {
   "cell_type": "markdown",
   "metadata": {},
   "source": [
    "2. List the name of the community areas with per capita income less than 11000."
   ]
  },
  {
   "cell_type": "code",
   "execution_count": 64,
   "metadata": {},
   "outputs": [
    {
     "name": "stdout",
     "output_type": "stream",
     "text": [
      "('West Garfield Park', 10934)\n",
      "('South Lawndale', 10402)\n",
      "('Fuller Park', 10432)\n",
      "('Riverdale', 8201)\n"
     ]
    }
   ],
   "source": [
    "sql_execute('select community_area_name, PER_CAPITA_INCOME from Chicago_Census_Data where PER_CAPITA_INCOME < 11000')"
   ]
  },
  {
   "cell_type": "markdown",
   "metadata": {},
   "source": [
    "3. list the name of the community area with the highest unemployment rate "
   ]
  },
  {
   "cell_type": "code",
   "execution_count": 63,
   "metadata": {},
   "outputs": [
    {
     "name": "stdout",
     "output_type": "stream",
     "text": [
      "('West Englewood', 35.9)\n"
     ]
    }
   ],
   "source": [
    "sql_execute('select COMMUNITY_AREA_NAME,PERCENT_AGED_16__UNEMPLOYED from Chicago_Census_Data where PERCENT_AGED_16__UNEMPLOYED = (SELECT max(PERCENT_AGED_16__UNEMPLOYED) from Chicago_Census_Data)')"
   ]
  },
  {
   "cell_type": "markdown",
   "metadata": {},
   "source": [
    "4.\tlist all case numbers involving minors (children are not considered minors for the purpose of crime analysis)."
   ]
  },
  {
   "cell_type": "code",
   "execution_count": 58,
   "metadata": {},
   "outputs": [
    {
     "name": "stdout",
     "output_type": "stream",
     "text": [
      "(3987219, 'HL266884', 'SELL/GIVE/DEL LIQUOR TO MINOR')\n",
      "(3266814, 'HK238408', 'ILLEGAL CONSUMPTION BY MINOR')\n"
     ]
    }
   ],
   "source": [
    "sql_execute('select ID, CASE_NUMBER, DESCRIPTION from chicago_crime_data where DESCRIPTION like \"%minor%\"')"
   ]
  },
  {
   "cell_type": "markdown",
   "metadata": {},
   "source": [
    "5.\tlist all kidnapping crimes involving a child "
   ]
  },
  {
   "cell_type": "code",
   "execution_count": 85,
   "metadata": {},
   "outputs": [
    {
     "name": "stdout",
     "output_type": "stream",
     "text": [
      "(5276766, 'HN144152', 'KIDNAPPING', 'CHILD ABDUCTION/STRANGER')\n"
     ]
    }
   ],
   "source": [
    "sql_execute('select ID, CASE_NUMBER,PRIMARY_TYPE, DESCRIPTION from chicago_crime_data where PRIMARY_TYPE =\"KIDNAPPING\" AND DESCRIPTION like \"%child%\"')"
   ]
  },
  {
   "cell_type": "markdown",
   "metadata": {},
   "source": [
    "6.\twhat kinds of crimes where recorded at school"
   ]
  },
  {
   "cell_type": "code",
   "execution_count": 66,
   "metadata": {},
   "outputs": [
    {
     "name": "stdout",
     "output_type": "stream",
     "text": [
      "('BATTERY',)\n",
      "('CRIMINAL DAMAGE',)\n",
      "('NARCOTICS',)\n",
      "('ASSAULT',)\n",
      "('CRIMINAL TRESPASS',)\n",
      "('PUBLIC PEACE VIOLATION',)\n"
     ]
    }
   ],
   "source": [
    "sql_execute('select DISTINCT(PRIMARY_TYPE) from chicago_crime_data where LOCATION_DESCRIPTION like \"%SCHOOL%\"')"
   ]
  },
  {
   "cell_type": "markdown",
   "metadata": {},
   "source": [
    "7.\tlist the average safety score for all types of schools"
   ]
  },
  {
   "cell_type": "code",
   "execution_count": 67,
   "metadata": {},
   "outputs": [
    {
     "name": "stdout",
     "output_type": "stream",
     "text": [
      "('ES', 49.52038369304557)\n",
      "('HS', 49.62352941176471)\n",
      "('MS', 48.0)\n"
     ]
    }
   ],
   "source": [
    "sql_execute('select \"Elementary, Middle, or High School\", avg(SAFETY_SCORE) from Chicago_Public_Schools group by \"Elementary, Middle, or High School\"')"
   ]
  },
  {
   "cell_type": "markdown",
   "metadata": {},
   "source": [
    "8.\tlist top 5 community areas with the highest % of households under poverty line."
   ]
  },
  {
   "cell_type": "code",
   "execution_count": 74,
   "metadata": {},
   "outputs": [
    {
     "name": "stdout",
     "output_type": "stream",
     "text": [
      "(54.0, 'Riverdale', 56.5)\n",
      "(37.0, 'Fuller Park', 51.2)\n",
      "(68.0, 'Englewood', 46.6)\n",
      "(29.0, 'North Lawndale', 43.1)\n",
      "(27.0, 'East Garfield Park', 42.4)\n"
     ]
    }
   ],
   "source": [
    "sql_execute('SELECT COMMUNITY_AREA_NUMBER, COMMUNITY_AREA_NAME, PERCENT_HOUSEHOLDS_BELOW_POVERTY from Chicago_Census_Data order by PERCENT_HOUSEHOLDS_BELOW_POVERTY desc limit 5')"
   ]
  },
  {
   "cell_type": "markdown",
   "metadata": {},
   "source": [
    "9.\tUse a subquery to find the community area name with the highest hardship index "
   ]
  },
  {
   "cell_type": "code",
   "execution_count": 75,
   "metadata": {},
   "outputs": [
    {
     "name": "stdout",
     "output_type": "stream",
     "text": [
      "(54.0, 'Riverdale', 98.0)\n"
     ]
    }
   ],
   "source": [
    "sql_execute('select COMMUNITY_AREA_NUMBER, COMMUNITY_AREA_NAME,HARDSHIP_INDEX from Chicago_Census_Data where HARDSHIP_INDEX = (SELECT max(hardship_index) from Chicago_Census_Data)')"
   ]
  },
  {
   "cell_type": "markdown",
   "metadata": {},
   "source": [
    "10.\tUse a sub-query to determine the Community Area Name with the most number of crimes"
   ]
  },
  {
   "cell_type": "code",
   "execution_count": 82,
   "metadata": {},
   "outputs": [
    {
     "name": "stdout",
     "output_type": "stream",
     "text": [
      "('Austin', 25.0)\n"
     ]
    }
   ],
   "source": [
    "sql_execute('select community_area_name, community_area_number from Chicago_Census_Data where community_area_number = (select COMMUNITY_AREA_NUMBER from (SELECT COMMUNITY_AREA_NUMBER, COUNT(COMMUNITY_AREA_NUMBER)countts FROM Chicago_Crime_Data GROUP BY COMMUNITY_AREA_NUMBER ORDER BY countts DESC LIMIT 1))')"
   ]
  },
  {
   "cell_type": "code",
   "execution_count": 84,
   "metadata": {},
   "outputs": [
    {
     "name": "stdout",
     "output_type": "stream",
     "text": [
      "Abdelmaksoud\n"
     ]
    }
   ],
   "source": [
    "print(\"Abdelmaksoud\")"
   ]
  },
  {
   "cell_type": "code",
   "execution_count": null,
   "metadata": {},
   "outputs": [],
   "source": []
  }
 ],
 "metadata": {
  "kernelspec": {
   "display_name": "Python 3",
   "language": "python",
   "name": "python3"
  },
  "language_info": {
   "codemirror_mode": {
    "name": "ipython",
    "version": 3
   },
   "file_extension": ".py",
   "mimetype": "text/x-python",
   "name": "python",
   "nbconvert_exporter": "python",
   "pygments_lexer": "ipython3",
   "version": "3.8.8"
  }
 },
 "nbformat": 4,
 "nbformat_minor": 4
}
